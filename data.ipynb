{
 "cells": [
  {
   "cell_type": "code",
   "execution_count": 1,
   "metadata": {},
   "outputs": [],
   "source": [
    "import preprocess as p\n",
    "import torch\n",
    "import pickle as pkl\n"
   ]
  },
  {
   "cell_type": "code",
   "execution_count": 2,
   "metadata": {},
   "outputs": [],
   "source": [
    "def transform(datapath, writepath):\n",
    "    with open(datapath, \"rb\") as fp:\n",
    "        data = pkl.load(fp)\n",
    "    \n",
    "    ids, chars, returns = p.loadTensors_without_Sequential(data)\n",
    "    f = p.FData(ids, chars, returns)\n",
    "    loader = torch.utils.data.DataLoader(f, batch_size=256)\n",
    "    torch.save(loader, writepath)\n"
   ]
  },
  {
   "cell_type": "code",
   "execution_count": 3,
   "metadata": {},
   "outputs": [],
   "source": [
    "datapath = \"../x_valid.pkl\"\n",
    "writepath = \"validloader.pt\"\n",
    "\n",
    "transform(datapath=datapath, writepath=writepath)"
   ]
  },
  {
   "cell_type": "code",
   "execution_count": 4,
   "metadata": {},
   "outputs": [],
   "source": [
    "datapath = \"trainloader.pt\"\n",
    "\n",
    "trainloader = torch.load(datapath)"
   ]
  },
  {
   "cell_type": "code",
   "execution_count": null,
   "metadata": {},
   "outputs": [],
   "source": []
  }
 ],
 "metadata": {
  "kernelspec": {
   "display_name": "base",
   "language": "python",
   "name": "python3"
  },
  "language_info": {
   "codemirror_mode": {
    "name": "ipython",
    "version": 3
   },
   "file_extension": ".py",
   "mimetype": "text/x-python",
   "name": "python",
   "nbconvert_exporter": "python",
   "pygments_lexer": "ipython3",
   "version": "3.9.16"
  },
  "orig_nbformat": 4
 },
 "nbformat": 4,
 "nbformat_minor": 2
}
