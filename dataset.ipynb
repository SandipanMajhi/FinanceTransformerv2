{
 "cells": [
  {
   "cell_type": "code",
   "execution_count": 1,
   "metadata": {},
   "outputs": [],
   "source": [
    "import pandas as pd\n",
    "from tqdm import tqdm\n",
    "import pickle as pkl\n",
    "import numpy as np\n",
    "from sklearn.preprocessing import StandardScaler\n",
    "from tqdm import tqdm\n",
    "import torch"
   ]
  },
  {
   "cell_type": "code",
   "execution_count": 4,
   "metadata": {},
   "outputs": [],
   "source": [
    "a = np.array([-np.inf, -np.inf, -np.inf])"
   ]
  },
  {
   "cell_type": "code",
   "execution_count": 7,
   "metadata": {},
   "outputs": [
    {
     "data": {
      "text/plain": [
       "(array([0, 1, 2]),)"
      ]
     },
     "execution_count": 7,
     "metadata": {},
     "output_type": "execute_result"
    }
   ],
   "source": [
    "np.where(a == -np.inf)"
   ]
  },
  {
   "cell_type": "code",
   "execution_count": 35,
   "metadata": {},
   "outputs": [],
   "source": [
    "# with open(\"id2key.pkl\", \"rb\") as fp:\n",
    "#     idmaps = pkl.load(fp)"
   ]
  },
  {
   "cell_type": "code",
   "execution_count": 36,
   "metadata": {},
   "outputs": [
    {
     "name": "stderr",
     "output_type": "stream",
     "text": [
      "/tmp/ipykernel_13602/2015645238.py:7: DeprecationWarning: numpy.core.numeric is deprecated and has been renamed to numpy._core.numeric. The numpy._core namespace contains private NumPy internals and its use is discouraged, as NumPy internals can change without warning in any release. In practice, most real-world usage of numpy.core is to access functionality in the public NumPy API. If that is the case, use the public NumPy API. If not, you are using NumPy internals. If you would still like to access an internal attribute, use numpy._core.numeric._frombuffer.\n",
      "  ret = pkl.load(fp)\n",
      "/tmp/ipykernel_13602/2015645238.py:11: DeprecationWarning: numpy.core.numeric is deprecated and has been renamed to numpy._core.numeric. The numpy._core namespace contains private NumPy internals and its use is discouraged, as NumPy internals can change without warning in any release. In practice, most real-world usage of numpy.core is to access functionality in the public NumPy API. If that is the case, use the public NumPy API. If not, you are using NumPy internals. If you would still like to access an internal attribute, use numpy._core.numeric._frombuffer.\n",
      "  data = pkl.load(fp)\n"
     ]
    }
   ],
   "source": [
    "# datapath = \"datashare/datashare.csv\"\n",
    "# datapath = \"./Modules/dataset.csv\"\n",
    "month_ret_path = \"data/month_ret.pkl\"\n",
    "\n",
    "# df = pd.read_csv(datapath)\n",
    "with open(month_ret_path, \"rb\") as fp:\n",
    "    ret = pkl.load(fp)\n",
    "\n",
    "datapath = \"data/datashare.pkl\"\n",
    "with open(datapath, \"rb\") as fp:\n",
    "    data = pkl.load(fp)\n",
    "\n",
    "# df = df.fillna(0)\n",
    "# df = df.dropna()"
   ]
  },
  {
   "cell_type": "code",
   "execution_count": 8,
   "metadata": {},
   "outputs": [
    {
     "data": {
      "text/plain": [
       "permno    0\n",
       "date      0\n",
       "month     0\n",
       "ret-rf    0\n",
       "dtype: int64"
      ]
     },
     "execution_count": 8,
     "metadata": {},
     "output_type": "execute_result"
    }
   ],
   "source": [
    "ret.isna().sum()"
   ]
  },
  {
   "cell_type": "code",
   "execution_count": 37,
   "metadata": {},
   "outputs": [],
   "source": [
    "ret = ret[ret.date <= 19701231]"
   ]
  },
  {
   "cell_type": "code",
   "execution_count": 38,
   "metadata": {},
   "outputs": [],
   "source": [
    "data = data[data.DATE <= 19701231]"
   ]
  },
  {
   "cell_type": "code",
   "execution_count": 39,
   "metadata": {},
   "outputs": [
    {
     "data": {
      "text/plain": [
       "(290172, 97)"
      ]
     },
     "execution_count": 39,
     "metadata": {},
     "output_type": "execute_result"
    }
   ],
   "source": [
    "data.shape"
   ]
  },
  {
   "cell_type": "code",
   "execution_count": 40,
   "metadata": {},
   "outputs": [
    {
     "data": {
      "text/plain": [
       "(291634, 4)"
      ]
     },
     "execution_count": 40,
     "metadata": {},
     "output_type": "execute_result"
    }
   ],
   "source": [
    "ret.shape"
   ]
  },
  {
   "cell_type": "code",
   "execution_count": 4,
   "metadata": {},
   "outputs": [],
   "source": [
    "# months = list(set(list(df.DATE)))\n",
    "\n",
    "# dfs = []\n",
    "\n",
    "# for month in tqdm(months, total = len(months)):\n",
    "#     df_temp = df[df.DATE == month]\n",
    "#     medians = df_temp.median()\n",
    "#     df_temp.fillna(medians, inplace = True)\n",
    "#     dfs.append(df_temp)\n",
    "\n",
    "# df = pd.concat(dfs) \n",
    "\n",
    "# df.to_csv(\"dataset.csv\", index = False)"
   ]
  },
  {
   "cell_type": "code",
   "execution_count": 5,
   "metadata": {},
   "outputs": [],
   "source": [
    "### Experimentals\n",
    "with open(\"data_stat.txt\", \"w\") as fp:\n",
    "\n",
    "    cols = list(df.columns)\n",
    "\n",
    "    for col in cols:\n",
    "        fp.write(f\"{col} --nans--> {df[col].isna().sum()}\\n\")"
   ]
  },
  {
   "cell_type": "code",
   "execution_count": 7,
   "metadata": {},
   "outputs": [],
   "source": [
    "df = df.dropna()"
   ]
  },
  {
   "cell_type": "code",
   "execution_count": 16,
   "metadata": {},
   "outputs": [
    {
     "data": {
      "text/html": [
       "<div>\n",
       "<style scoped>\n",
       "    .dataframe tbody tr th:only-of-type {\n",
       "        vertical-align: middle;\n",
       "    }\n",
       "\n",
       "    .dataframe tbody tr th {\n",
       "        vertical-align: top;\n",
       "    }\n",
       "\n",
       "    .dataframe thead th {\n",
       "        text-align: right;\n",
       "    }\n",
       "</style>\n",
       "<table border=\"1\" class=\"dataframe\">\n",
       "  <thead>\n",
       "    <tr style=\"text-align: right;\">\n",
       "      <th></th>\n",
       "      <th>permno</th>\n",
       "      <th>DATE</th>\n",
       "      <th>mvel1</th>\n",
       "      <th>beta</th>\n",
       "      <th>betasq</th>\n",
       "      <th>chmom</th>\n",
       "      <th>dolvol</th>\n",
       "      <th>idiovol</th>\n",
       "      <th>indmom</th>\n",
       "      <th>mom1m</th>\n",
       "      <th>...</th>\n",
       "      <th>stdcf</th>\n",
       "      <th>ms</th>\n",
       "      <th>baspread</th>\n",
       "      <th>ill</th>\n",
       "      <th>maxret</th>\n",
       "      <th>retvol</th>\n",
       "      <th>std_dolvol</th>\n",
       "      <th>std_turn</th>\n",
       "      <th>zerotrade</th>\n",
       "      <th>sic2</th>\n",
       "    </tr>\n",
       "  </thead>\n",
       "  <tbody>\n",
       "    <tr>\n",
       "      <th>0</th>\n",
       "      <td>10006</td>\n",
       "      <td>19570329</td>\n",
       "      <td>86308.500</td>\n",
       "      <td>1.117907</td>\n",
       "      <td>1.249717</td>\n",
       "      <td>0.134574</td>\n",
       "      <td>10.296745</td>\n",
       "      <td>0.024863</td>\n",
       "      <td>0.05954</td>\n",
       "      <td>0.002016</td>\n",
       "      <td>...</td>\n",
       "      <td>NaN</td>\n",
       "      <td>NaN</td>\n",
       "      <td>0.013856</td>\n",
       "      <td>1.557681e-07</td>\n",
       "      <td>0.029167</td>\n",
       "      <td>0.013546</td>\n",
       "      <td>0.914592</td>\n",
       "      <td>0.802461</td>\n",
       "      <td>1.066005e-07</td>\n",
       "      <td>37.0</td>\n",
       "    </tr>\n",
       "    <tr>\n",
       "      <th>1</th>\n",
       "      <td>10014</td>\n",
       "      <td>19570329</td>\n",
       "      <td>3903.375</td>\n",
       "      <td>0.331304</td>\n",
       "      <td>0.109762</td>\n",
       "      <td>0.006667</td>\n",
       "      <td>7.032404</td>\n",
       "      <td>0.065248</td>\n",
       "      <td>0.05954</td>\n",
       "      <td>-0.086957</td>\n",
       "      <td>...</td>\n",
       "      <td>NaN</td>\n",
       "      <td>NaN</td>\n",
       "      <td>0.031389</td>\n",
       "      <td>8.383815e-06</td>\n",
       "      <td>0.071429</td>\n",
       "      <td>0.031165</td>\n",
       "      <td>0.943409</td>\n",
       "      <td>0.716406</td>\n",
       "      <td>1.105263e+00</td>\n",
       "      <td>NaN</td>\n",
       "    </tr>\n",
       "    <tr>\n",
       "      <th>2</th>\n",
       "      <td>10022</td>\n",
       "      <td>19570329</td>\n",
       "      <td>9841.000</td>\n",
       "      <td>0.942052</td>\n",
       "      <td>0.887461</td>\n",
       "      <td>0.058761</td>\n",
       "      <td>7.294038</td>\n",
       "      <td>0.029338</td>\n",
       "      <td>0.05954</td>\n",
       "      <td>-0.037037</td>\n",
       "      <td>...</td>\n",
       "      <td>NaN</td>\n",
       "      <td>NaN</td>\n",
       "      <td>0.010066</td>\n",
       "      <td>5.360386e-06</td>\n",
       "      <td>0.020000</td>\n",
       "      <td>0.016886</td>\n",
       "      <td>0.993558</td>\n",
       "      <td>0.534808</td>\n",
       "      <td>2.387797e-07</td>\n",
       "      <td>NaN</td>\n",
       "    </tr>\n",
       "    <tr>\n",
       "      <th>3</th>\n",
       "      <td>10030</td>\n",
       "      <td>19570329</td>\n",
       "      <td>51901.000</td>\n",
       "      <td>0.886532</td>\n",
       "      <td>0.785940</td>\n",
       "      <td>-0.032065</td>\n",
       "      <td>9.516942</td>\n",
       "      <td>0.022007</td>\n",
       "      <td>0.05954</td>\n",
       "      <td>0.000000</td>\n",
       "      <td>...</td>\n",
       "      <td>NaN</td>\n",
       "      <td>NaN</td>\n",
       "      <td>0.009523</td>\n",
       "      <td>1.090908e-07</td>\n",
       "      <td>0.017857</td>\n",
       "      <td>0.009104</td>\n",
       "      <td>0.736000</td>\n",
       "      <td>0.712647</td>\n",
       "      <td>9.202902e-08</td>\n",
       "      <td>NaN</td>\n",
       "    </tr>\n",
       "    <tr>\n",
       "      <th>4</th>\n",
       "      <td>10057</td>\n",
       "      <td>19570329</td>\n",
       "      <td>35250.000</td>\n",
       "      <td>1.229520</td>\n",
       "      <td>1.511719</td>\n",
       "      <td>-0.102811</td>\n",
       "      <td>8.421013</td>\n",
       "      <td>0.025453</td>\n",
       "      <td>0.05954</td>\n",
       "      <td>-0.030717</td>\n",
       "      <td>...</td>\n",
       "      <td>NaN</td>\n",
       "      <td>NaN</td>\n",
       "      <td>0.007661</td>\n",
       "      <td>2.386914e-07</td>\n",
       "      <td>0.007194</td>\n",
       "      <td>0.006748</td>\n",
       "      <td>0.889503</td>\n",
       "      <td>0.775954</td>\n",
       "      <td>6.631579e+00</td>\n",
       "      <td>NaN</td>\n",
       "    </tr>\n",
       "  </tbody>\n",
       "</table>\n",
       "<p>5 rows × 97 columns</p>\n",
       "</div>"
      ],
      "text/plain": [
       "   permno      DATE      mvel1      beta    betasq     chmom     dolvol  \\\n",
       "0   10006  19570329  86308.500  1.117907  1.249717  0.134574  10.296745   \n",
       "1   10014  19570329   3903.375  0.331304  0.109762  0.006667   7.032404   \n",
       "2   10022  19570329   9841.000  0.942052  0.887461  0.058761   7.294038   \n",
       "3   10030  19570329  51901.000  0.886532  0.785940 -0.032065   9.516942   \n",
       "4   10057  19570329  35250.000  1.229520  1.511719 -0.102811   8.421013   \n",
       "\n",
       "    idiovol   indmom     mom1m  ...  stdcf  ms  baspread           ill  \\\n",
       "0  0.024863  0.05954  0.002016  ...    NaN NaN  0.013856  1.557681e-07   \n",
       "1  0.065248  0.05954 -0.086957  ...    NaN NaN  0.031389  8.383815e-06   \n",
       "2  0.029338  0.05954 -0.037037  ...    NaN NaN  0.010066  5.360386e-06   \n",
       "3  0.022007  0.05954  0.000000  ...    NaN NaN  0.009523  1.090908e-07   \n",
       "4  0.025453  0.05954 -0.030717  ...    NaN NaN  0.007661  2.386914e-07   \n",
       "\n",
       "     maxret    retvol  std_dolvol  std_turn     zerotrade  sic2  \n",
       "0  0.029167  0.013546    0.914592  0.802461  1.066005e-07  37.0  \n",
       "1  0.071429  0.031165    0.943409  0.716406  1.105263e+00   NaN  \n",
       "2  0.020000  0.016886    0.993558  0.534808  2.387797e-07   NaN  \n",
       "3  0.017857  0.009104    0.736000  0.712647  9.202902e-08   NaN  \n",
       "4  0.007194  0.006748    0.889503  0.775954  6.631579e+00   NaN  \n",
       "\n",
       "[5 rows x 97 columns]"
      ]
     },
     "execution_count": 16,
     "metadata": {},
     "output_type": "execute_result"
    }
   ],
   "source": [
    "data.head()"
   ]
  },
  {
   "cell_type": "code",
   "execution_count": 9,
   "metadata": {},
   "outputs": [],
   "source": [
    "months = list(df.DATE)\n",
    "months = [int(str(m)[:6]) for m in months]"
   ]
  },
  {
   "cell_type": "code",
   "execution_count": 24,
   "metadata": {},
   "outputs": [],
   "source": [
    "data = data.rename(columns = {\"DATE\" : \"date\"})"
   ]
  },
  {
   "cell_type": "code",
   "execution_count": 25,
   "metadata": {},
   "outputs": [],
   "source": [
    "df = pd.merge(data, ret, how = \"inner\", on=['permno', 'date'])"
   ]
  },
  {
   "cell_type": "code",
   "execution_count": 26,
   "metadata": {},
   "outputs": [],
   "source": [
    "df = df.drop(['permno','date','sic2', 'month'], axis = 1)"
   ]
  },
  {
   "cell_type": "code",
   "execution_count": 27,
   "metadata": {},
   "outputs": [
    {
     "data": {
      "text/html": [
       "<div>\n",
       "<style scoped>\n",
       "    .dataframe tbody tr th:only-of-type {\n",
       "        vertical-align: middle;\n",
       "    }\n",
       "\n",
       "    .dataframe tbody tr th {\n",
       "        vertical-align: top;\n",
       "    }\n",
       "\n",
       "    .dataframe thead th {\n",
       "        text-align: right;\n",
       "    }\n",
       "</style>\n",
       "<table border=\"1\" class=\"dataframe\">\n",
       "  <thead>\n",
       "    <tr style=\"text-align: right;\">\n",
       "      <th></th>\n",
       "      <th>mvel1</th>\n",
       "      <th>beta</th>\n",
       "      <th>betasq</th>\n",
       "      <th>chmom</th>\n",
       "      <th>dolvol</th>\n",
       "      <th>idiovol</th>\n",
       "      <th>indmom</th>\n",
       "      <th>mom1m</th>\n",
       "      <th>mom6m</th>\n",
       "      <th>mom12m</th>\n",
       "      <th>...</th>\n",
       "      <th>stdcf</th>\n",
       "      <th>ms</th>\n",
       "      <th>baspread</th>\n",
       "      <th>ill</th>\n",
       "      <th>maxret</th>\n",
       "      <th>retvol</th>\n",
       "      <th>std_dolvol</th>\n",
       "      <th>std_turn</th>\n",
       "      <th>zerotrade</th>\n",
       "      <th>ret-rf</th>\n",
       "    </tr>\n",
       "  </thead>\n",
       "  <tbody>\n",
       "    <tr>\n",
       "      <th>0</th>\n",
       "      <td>86308.500</td>\n",
       "      <td>1.117907</td>\n",
       "      <td>1.249717</td>\n",
       "      <td>0.134574</td>\n",
       "      <td>10.296745</td>\n",
       "      <td>0.024863</td>\n",
       "      <td>0.05954</td>\n",
       "      <td>0.002016</td>\n",
       "      <td>0.081150</td>\n",
       "      <td>0.025747</td>\n",
       "      <td>...</td>\n",
       "      <td>NaN</td>\n",
       "      <td>NaN</td>\n",
       "      <td>0.013856</td>\n",
       "      <td>1.557681e-07</td>\n",
       "      <td>0.029167</td>\n",
       "      <td>0.013546</td>\n",
       "      <td>0.914592</td>\n",
       "      <td>0.802461</td>\n",
       "      <td>1.066005e-07</td>\n",
       "      <td>1.6105</td>\n",
       "    </tr>\n",
       "    <tr>\n",
       "      <th>1</th>\n",
       "      <td>3903.375</td>\n",
       "      <td>0.331304</td>\n",
       "      <td>0.109762</td>\n",
       "      <td>0.006667</td>\n",
       "      <td>7.032404</td>\n",
       "      <td>0.065248</td>\n",
       "      <td>0.05954</td>\n",
       "      <td>-0.086957</td>\n",
       "      <td>-0.080000</td>\n",
       "      <td>-0.233333</td>\n",
       "      <td>...</td>\n",
       "      <td>NaN</td>\n",
       "      <td>NaN</td>\n",
       "      <td>0.031389</td>\n",
       "      <td>8.383815e-06</td>\n",
       "      <td>0.071429</td>\n",
       "      <td>0.031165</td>\n",
       "      <td>0.943409</td>\n",
       "      <td>0.716406</td>\n",
       "      <td>1.105263e+00</td>\n",
       "      <td>-0.2300</td>\n",
       "    </tr>\n",
       "    <tr>\n",
       "      <th>2</th>\n",
       "      <td>9841.000</td>\n",
       "      <td>0.942052</td>\n",
       "      <td>0.887461</td>\n",
       "      <td>0.058761</td>\n",
       "      <td>7.294038</td>\n",
       "      <td>0.029338</td>\n",
       "      <td>0.05954</td>\n",
       "      <td>-0.037037</td>\n",
       "      <td>-0.005452</td>\n",
       "      <td>-0.105949</td>\n",
       "      <td>...</td>\n",
       "      <td>NaN</td>\n",
       "      <td>NaN</td>\n",
       "      <td>0.010066</td>\n",
       "      <td>5.360386e-06</td>\n",
       "      <td>0.020000</td>\n",
       "      <td>0.016886</td>\n",
       "      <td>0.993558</td>\n",
       "      <td>0.534808</td>\n",
       "      <td>2.387797e-07</td>\n",
       "      <td>-0.6146</td>\n",
       "    </tr>\n",
       "    <tr>\n",
       "      <th>3</th>\n",
       "      <td>51901.000</td>\n",
       "      <td>0.886532</td>\n",
       "      <td>0.785940</td>\n",
       "      <td>-0.032065</td>\n",
       "      <td>9.516942</td>\n",
       "      <td>0.022007</td>\n",
       "      <td>0.05954</td>\n",
       "      <td>0.000000</td>\n",
       "      <td>0.033590</td>\n",
       "      <td>0.101451</td>\n",
       "      <td>...</td>\n",
       "      <td>NaN</td>\n",
       "      <td>NaN</td>\n",
       "      <td>0.009523</td>\n",
       "      <td>1.090908e-07</td>\n",
       "      <td>0.017857</td>\n",
       "      <td>0.009104</td>\n",
       "      <td>0.736000</td>\n",
       "      <td>0.712647</td>\n",
       "      <td>9.202902e-08</td>\n",
       "      <td>7.5607</td>\n",
       "    </tr>\n",
       "    <tr>\n",
       "      <th>4</th>\n",
       "      <td>35250.000</td>\n",
       "      <td>1.229520</td>\n",
       "      <td>1.511719</td>\n",
       "      <td>-0.102811</td>\n",
       "      <td>8.421013</td>\n",
       "      <td>0.025453</td>\n",
       "      <td>0.05954</td>\n",
       "      <td>-0.030717</td>\n",
       "      <td>0.048778</td>\n",
       "      <td>0.173976</td>\n",
       "      <td>...</td>\n",
       "      <td>NaN</td>\n",
       "      <td>NaN</td>\n",
       "      <td>0.007661</td>\n",
       "      <td>2.386914e-07</td>\n",
       "      <td>0.007194</td>\n",
       "      <td>0.006748</td>\n",
       "      <td>0.889503</td>\n",
       "      <td>0.775954</td>\n",
       "      <td>6.631579e+00</td>\n",
       "      <td>-2.0030</td>\n",
       "    </tr>\n",
       "  </tbody>\n",
       "</table>\n",
       "<p>5 rows × 95 columns</p>\n",
       "</div>"
      ],
      "text/plain": [
       "       mvel1      beta    betasq     chmom     dolvol   idiovol   indmom  \\\n",
       "0  86308.500  1.117907  1.249717  0.134574  10.296745  0.024863  0.05954   \n",
       "1   3903.375  0.331304  0.109762  0.006667   7.032404  0.065248  0.05954   \n",
       "2   9841.000  0.942052  0.887461  0.058761   7.294038  0.029338  0.05954   \n",
       "3  51901.000  0.886532  0.785940 -0.032065   9.516942  0.022007  0.05954   \n",
       "4  35250.000  1.229520  1.511719 -0.102811   8.421013  0.025453  0.05954   \n",
       "\n",
       "      mom1m     mom6m    mom12m  ...  stdcf  ms  baspread           ill  \\\n",
       "0  0.002016  0.081150  0.025747  ...    NaN NaN  0.013856  1.557681e-07   \n",
       "1 -0.086957 -0.080000 -0.233333  ...    NaN NaN  0.031389  8.383815e-06   \n",
       "2 -0.037037 -0.005452 -0.105949  ...    NaN NaN  0.010066  5.360386e-06   \n",
       "3  0.000000  0.033590  0.101451  ...    NaN NaN  0.009523  1.090908e-07   \n",
       "4 -0.030717  0.048778  0.173976  ...    NaN NaN  0.007661  2.386914e-07   \n",
       "\n",
       "     maxret    retvol  std_dolvol  std_turn     zerotrade  ret-rf  \n",
       "0  0.029167  0.013546    0.914592  0.802461  1.066005e-07  1.6105  \n",
       "1  0.071429  0.031165    0.943409  0.716406  1.105263e+00 -0.2300  \n",
       "2  0.020000  0.016886    0.993558  0.534808  2.387797e-07 -0.6146  \n",
       "3  0.017857  0.009104    0.736000  0.712647  9.202902e-08  7.5607  \n",
       "4  0.007194  0.006748    0.889503  0.775954  6.631579e+00 -2.0030  \n",
       "\n",
       "[5 rows x 95 columns]"
      ]
     },
     "execution_count": 27,
     "metadata": {},
     "output_type": "execute_result"
    }
   ],
   "source": [
    "df.head()"
   ]
  },
  {
   "cell_type": "code",
   "execution_count": 28,
   "metadata": {},
   "outputs": [
    {
     "data": {
      "text/plain": [
       "(835309, 95)"
      ]
     },
     "execution_count": 28,
     "metadata": {},
     "output_type": "execute_result"
    }
   ],
   "source": [
    "df.shape"
   ]
  },
  {
   "cell_type": "code",
   "execution_count": 29,
   "metadata": {},
   "outputs": [],
   "source": [
    "y = df[\"ret-rf\"].values"
   ]
  },
  {
   "cell_type": "code",
   "execution_count": 31,
   "metadata": {},
   "outputs": [
    {
     "data": {
      "text/plain": [
       "(835309,)"
      ]
     },
     "execution_count": 31,
     "metadata": {},
     "output_type": "execute_result"
    }
   ],
   "source": [
    "y.shape"
   ]
  },
  {
   "cell_type": "code",
   "execution_count": 32,
   "metadata": {},
   "outputs": [],
   "source": [
    "X = df[[l for l in df.columns if l != \"ret-rf\"]].values"
   ]
  },
  {
   "cell_type": "code",
   "execution_count": 33,
   "metadata": {},
   "outputs": [
    {
     "data": {
      "text/plain": [
       "(835309, 94)"
      ]
     },
     "execution_count": 33,
     "metadata": {},
     "output_type": "execute_result"
    }
   ],
   "source": [
    "X.shape"
   ]
  },
  {
   "cell_type": "code",
   "execution_count": 14,
   "metadata": {},
   "outputs": [],
   "source": [
    "### Rank Normalization\n",
    "\n",
    "# normed_columns = list(df.columns)\n",
    "# normed_columns.remove('permno')\n",
    "# normed_columns.remove('month')\n",
    "\n",
    "# for col in normed_columns:\n",
    "#     df[col] = df.rank(pct = True)\n",
    "#     df[col] = 2*df[col] - 1"
   ]
  },
  {
   "cell_type": "code",
   "execution_count": 15,
   "metadata": {},
   "outputs": [],
   "source": [
    "normed_columns = list(df.columns)\n",
    "normed_columns.remove('permno')\n",
    "normed_columns.remove('month')\n",
    "# normed_columns.remove('ret-rf')\n",
    "\n",
    "df[normed_columns] = StandardScaler().fit_transform(df[normed_columns])"
   ]
  },
  {
   "cell_type": "code",
   "execution_count": 23,
   "metadata": {},
   "outputs": [],
   "source": [
    "#### Before Removing Nans ####\n",
    "\n",
    "# df_train = df[(df['month'] >= 195700) & (df['month'] <= 197412)]\n",
    "# df_valid = df[(df['month'] >= 197500) & (df['month'] <= 198612)]\n",
    "# df_test = df[df['month'] >= 198700]"
   ]
  },
  {
   "cell_type": "code",
   "execution_count": 25,
   "metadata": {},
   "outputs": [],
   "source": [
    "#### After Removing Nans ####\n",
    "df_train = df[(df['month'] >= 198500) & (df['month'] <= 200212)]\n",
    "df_valid = df[(df['month'] >= 200300) & (df['month'] <= 200612)]\n",
    "df_test = df[df['month'] >= 200700]\n",
    "\n",
    "\n",
    "# df_train = df[(df['month'] >= 198500) & (df['month'] <= 199512)]\n",
    "# df_valid = df[(df['month'] >= 199600) & (df['month'] <= 199912)]\n",
    "# df_test = df[df['month'] >= 200000]"
   ]
  },
  {
   "cell_type": "code",
   "execution_count": 35,
   "metadata": {},
   "outputs": [],
   "source": [
    "def make_data(df):\n",
    "    characs = {}\n",
    "    dates = list(df.month.unique())\n",
    "\n",
    "    for dt in dates:\n",
    "        df_date = df[df.month == dt]\n",
    "        df_date = df_date.drop('month', axis = 1)\n",
    "        ids = list(df_date['permno'])\n",
    "        df_date = df_date.drop('permno', axis = 1)\n",
    "        y = np.array(list(df_date['ret-rf']))\n",
    "        df_date = df_date.drop('ret-rf', axis = 1)\n",
    "        df_date.fillna(-1000)\n",
    "        characs[dt] = {\n",
    "            \"ids\": np.array(ids),\n",
    "            \"characs\" : df_date.to_numpy(),\n",
    "            \"returns\" : y\n",
    "        }\n",
    "    return characs"
   ]
  },
  {
   "cell_type": "code",
   "execution_count": 36,
   "metadata": {},
   "outputs": [],
   "source": [
    "x_train = make_data(df_train)\n",
    "x_valid = make_data(df_valid)\n",
    "x_test = make_data(df_test)"
   ]
  },
  {
   "cell_type": "code",
   "execution_count": 37,
   "metadata": {},
   "outputs": [],
   "source": [
    "with open(\"x_train.pkl\", \"wb\") as fp:\n",
    "    pkl.dump(x_train, fp)\n",
    "\n",
    "# with open(\"y_train.pkl\", \"wb\") as fp:\n",
    "#     pkl.dump(y_train, fp)\n",
    "\n",
    "with open(\"x_test.pkl\", \"wb\") as fp:\n",
    "    pkl.dump(x_test, fp)\n",
    "\n",
    "# with open(\"y_test.pkl\", \"wb\") as fp:\n",
    "#     pkl.dump(y_test, fp)\n",
    "\n",
    "with open(\"x_valid.pkl\", \"wb\") as fp:\n",
    "    pkl.dump(x_valid, fp)\n",
    "\n",
    "# with open(\"y_valid.pkl\", \"wb\") as fp:\n",
    "#     pkl.dump(y_valid, fp)"
   ]
  },
  {
   "cell_type": "code",
   "execution_count": 16,
   "metadata": {},
   "outputs": [],
   "source": [
    "dataset_path = \"x_test.pkl\"\n",
    "\n",
    "import pickle as pkl\n",
    "\n",
    "with open(dataset_path, \"rb\") as fp:\n",
    "    data = pkl.load(fp)"
   ]
  },
  {
   "cell_type": "code",
   "execution_count": 17,
   "metadata": {},
   "outputs": [
    {
     "data": {
      "text/plain": [
       "(6655, 94)"
      ]
     },
     "execution_count": 17,
     "metadata": {},
     "output_type": "execute_result"
    }
   ],
   "source": [
    "data[198702]['characs'].shape"
   ]
  },
  {
   "cell_type": "code",
   "execution_count": 19,
   "metadata": {},
   "outputs": [
    {
     "data": {
      "text/plain": [
       "(6655,)"
      ]
     },
     "execution_count": 19,
     "metadata": {},
     "output_type": "execute_result"
    }
   ],
   "source": [
    "data[198702]['ids'].shape"
   ]
  },
  {
   "cell_type": "code",
   "execution_count": 23,
   "metadata": {},
   "outputs": [],
   "source": [
    "import torch\n",
    "\n",
    "d = torch.from_numpy(data[198702]['ids']).unsqueeze(dim = 0)"
   ]
  },
  {
   "cell_type": "code",
   "execution_count": 24,
   "metadata": {},
   "outputs": [
    {
     "data": {
      "text/plain": [
       "torch.Size([1, 6655])"
      ]
     },
     "execution_count": 24,
     "metadata": {},
     "output_type": "execute_result"
    }
   ],
   "source": [
    "d.shape"
   ]
  },
  {
   "cell_type": "code",
   "execution_count": 8,
   "metadata": {},
   "outputs": [],
   "source": [
    "import torch\n",
    "import numpy as np"
   ]
  },
  {
   "cell_type": "code",
   "execution_count": 10,
   "metadata": {},
   "outputs": [],
   "source": [
    "x = torch.tensor(data[198701]['characs'], device = \"cuda\", dtype = torch.float32)"
   ]
  },
  {
   "cell_type": "code",
   "execution_count": 11,
   "metadata": {},
   "outputs": [
    {
     "data": {
      "text/plain": [
       "torch.Size([6600, 94])"
      ]
     },
     "execution_count": 11,
     "metadata": {},
     "output_type": "execute_result"
    }
   ],
   "source": [
    "x.shape"
   ]
  },
  {
   "cell_type": "code",
   "execution_count": 24,
   "metadata": {},
   "outputs": [
    {
     "data": {
      "text/html": [
       "<div>\n",
       "<style scoped>\n",
       "    .dataframe tbody tr th:only-of-type {\n",
       "        vertical-align: middle;\n",
       "    }\n",
       "\n",
       "    .dataframe tbody tr th {\n",
       "        vertical-align: top;\n",
       "    }\n",
       "\n",
       "    .dataframe thead th {\n",
       "        text-align: right;\n",
       "    }\n",
       "</style>\n",
       "<table border=\"1\" class=\"dataframe\">\n",
       "  <thead>\n",
       "    <tr style=\"text-align: right;\">\n",
       "      <th></th>\n",
       "      <th>permno</th>\n",
       "      <th>mvel1</th>\n",
       "      <th>beta</th>\n",
       "      <th>betasq</th>\n",
       "      <th>chmom</th>\n",
       "      <th>dolvol</th>\n",
       "      <th>idiovol</th>\n",
       "      <th>indmom</th>\n",
       "      <th>mom1m</th>\n",
       "      <th>mom6m</th>\n",
       "      <th>...</th>\n",
       "      <th>ms</th>\n",
       "      <th>baspread</th>\n",
       "      <th>ill</th>\n",
       "      <th>maxret</th>\n",
       "      <th>retvol</th>\n",
       "      <th>std_dolvol</th>\n",
       "      <th>std_turn</th>\n",
       "      <th>zerotrade</th>\n",
       "      <th>month</th>\n",
       "      <th>ret-rf</th>\n",
       "    </tr>\n",
       "  </thead>\n",
       "  <tbody>\n",
       "  </tbody>\n",
       "</table>\n",
       "<p>0 rows × 97 columns</p>\n",
       "</div>"
      ],
      "text/plain": [
       "Empty DataFrame\n",
       "Columns: [permno, mvel1, beta, betasq, chmom, dolvol, idiovol, indmom, mom1m, mom6m, mom12m, mom36m, pricedelay, turn, absacc, acc, age, agr, bm, bm_ia, cashdebt, cashpr, cfp, cfp_ia, chatoia, chcsho, chempia, chinv, chpmia, convind, currat, depr, divi, divo, dy, egr, ep, gma, grcapx, grltnoa, herf, hire, invest, lev, lgr, mve_ia, operprof, orgcap, pchcapx_ia, pchcurrat, pchdepr, pchgm_pchsale, pchquick, pchsale_pchinvt, pchsale_pchrect, pchsale_pchxsga, pchsaleinv, pctacc, ps, quick, rd, rd_mve, rd_sale, realestate, roic, salecash, saleinv, salerec, secured, securedind, sgr, sin, sp, tang, tb, aeavol, cash, chtx, cinvest, ear, nincr, roaq, roavol, roeq, rsup, stdacc, stdcf, ms, baspread, ill, maxret, retvol, std_dolvol, std_turn, zerotrade, month, ret-rf]\n",
       "Index: []\n",
       "\n",
       "[0 rows x 97 columns]"
      ]
     },
     "execution_count": 24,
     "metadata": {},
     "output_type": "execute_result"
    }
   ],
   "source": [
    "df_train"
   ]
  },
  {
   "cell_type": "code",
   "execution_count": 32,
   "metadata": {},
   "outputs": [],
   "source": [
    "x = list(df.month.unique())"
   ]
  },
  {
   "cell_type": "code",
   "execution_count": 33,
   "metadata": {},
   "outputs": [],
   "source": [
    "x.sort()"
   ]
  },
  {
   "cell_type": "code",
   "execution_count": 34,
   "metadata": {},
   "outputs": [
    {
     "data": {
      "text/plain": [
       "[198501,\n",
       " 198502,\n",
       " 198503,\n",
       " 198504,\n",
       " 198505,\n",
       " 198506,\n",
       " 198507,\n",
       " 198508,\n",
       " 198509,\n",
       " 198510,\n",
       " 198511,\n",
       " 198512,\n",
       " 198601,\n",
       " 198602,\n",
       " 198603,\n",
       " 198604,\n",
       " 198605,\n",
       " 198606,\n",
       " 198607,\n",
       " 198608,\n",
       " 198609,\n",
       " 198610,\n",
       " 198611,\n",
       " 198612,\n",
       " 198701,\n",
       " 198702,\n",
       " 198703,\n",
       " 198704,\n",
       " 198705,\n",
       " 198706,\n",
       " 198707,\n",
       " 198708,\n",
       " 198709,\n",
       " 198710,\n",
       " 198711,\n",
       " 198712,\n",
       " 198801,\n",
       " 198802,\n",
       " 198803,\n",
       " 198804,\n",
       " 198805,\n",
       " 198806,\n",
       " 198807,\n",
       " 198808,\n",
       " 198809,\n",
       " 198810,\n",
       " 198811,\n",
       " 198812,\n",
       " 198901,\n",
       " 198902,\n",
       " 198903,\n",
       " 198904,\n",
       " 198905,\n",
       " 198906,\n",
       " 198907,\n",
       " 198908,\n",
       " 198909,\n",
       " 198910,\n",
       " 198911,\n",
       " 198912,\n",
       " 199001,\n",
       " 199002,\n",
       " 199003,\n",
       " 199004,\n",
       " 199005,\n",
       " 199006,\n",
       " 199007,\n",
       " 199008,\n",
       " 199009,\n",
       " 199010,\n",
       " 199011,\n",
       " 199012,\n",
       " 199101,\n",
       " 199102,\n",
       " 199103,\n",
       " 199104,\n",
       " 199105,\n",
       " 199106,\n",
       " 199107,\n",
       " 199108,\n",
       " 199109,\n",
       " 199110,\n",
       " 199111,\n",
       " 199112,\n",
       " 199201,\n",
       " 199202,\n",
       " 199203,\n",
       " 199204,\n",
       " 199205,\n",
       " 199206,\n",
       " 199207,\n",
       " 199208,\n",
       " 199209,\n",
       " 199210,\n",
       " 199211,\n",
       " 199212,\n",
       " 199301,\n",
       " 199302,\n",
       " 199303,\n",
       " 199304,\n",
       " 199305,\n",
       " 199306,\n",
       " 199307,\n",
       " 199308,\n",
       " 199309,\n",
       " 199310,\n",
       " 199311,\n",
       " 199312,\n",
       " 199401,\n",
       " 199402,\n",
       " 199403,\n",
       " 199404,\n",
       " 199405,\n",
       " 199406,\n",
       " 199407,\n",
       " 199408,\n",
       " 199409,\n",
       " 199410,\n",
       " 199411,\n",
       " 199412,\n",
       " 199501,\n",
       " 199502,\n",
       " 199503,\n",
       " 199504,\n",
       " 199505,\n",
       " 199506,\n",
       " 199507,\n",
       " 199508,\n",
       " 199509,\n",
       " 199510,\n",
       " 199511,\n",
       " 199512,\n",
       " 199601,\n",
       " 199602,\n",
       " 199603,\n",
       " 199604,\n",
       " 199605,\n",
       " 199606,\n",
       " 199607,\n",
       " 199608,\n",
       " 199609,\n",
       " 199610,\n",
       " 199611,\n",
       " 199612,\n",
       " 199701,\n",
       " 199702,\n",
       " 199703,\n",
       " 199704,\n",
       " 199705,\n",
       " 199706,\n",
       " 199707,\n",
       " 199708,\n",
       " 199709,\n",
       " 199710,\n",
       " 199711,\n",
       " 199712,\n",
       " 199801,\n",
       " 199802,\n",
       " 199803,\n",
       " 199804,\n",
       " 199805,\n",
       " 199806,\n",
       " 199807,\n",
       " 199808,\n",
       " 199809,\n",
       " 199810,\n",
       " 199811,\n",
       " 199812,\n",
       " 199901,\n",
       " 199902,\n",
       " 199903,\n",
       " 199904,\n",
       " 199905,\n",
       " 199906,\n",
       " 199907,\n",
       " 199908,\n",
       " 199909,\n",
       " 199910,\n",
       " 199911,\n",
       " 199912,\n",
       " 200001,\n",
       " 200002,\n",
       " 200003,\n",
       " 200004,\n",
       " 200005,\n",
       " 200006,\n",
       " 200007,\n",
       " 200008,\n",
       " 200009,\n",
       " 200010,\n",
       " 200011,\n",
       " 200012,\n",
       " 200101,\n",
       " 200102,\n",
       " 200103,\n",
       " 200104,\n",
       " 200105,\n",
       " 200106,\n",
       " 200107,\n",
       " 200108,\n",
       " 200109,\n",
       " 200110,\n",
       " 200111,\n",
       " 200112,\n",
       " 200201,\n",
       " 200202,\n",
       " 200203,\n",
       " 200204,\n",
       " 200205,\n",
       " 200206,\n",
       " 200207,\n",
       " 200208,\n",
       " 200209,\n",
       " 200210,\n",
       " 200211,\n",
       " 200212,\n",
       " 200301,\n",
       " 200302,\n",
       " 200303,\n",
       " 200304,\n",
       " 200305,\n",
       " 200306,\n",
       " 200307,\n",
       " 200308,\n",
       " 200309,\n",
       " 200310,\n",
       " 200311,\n",
       " 200312,\n",
       " 200401,\n",
       " 200402,\n",
       " 200403,\n",
       " 200404,\n",
       " 200405,\n",
       " 200406,\n",
       " 200407,\n",
       " 200408,\n",
       " 200409,\n",
       " 200410,\n",
       " 200411,\n",
       " 200412,\n",
       " 200501,\n",
       " 200502,\n",
       " 200503,\n",
       " 200504,\n",
       " 200505,\n",
       " 200506,\n",
       " 200507,\n",
       " 200508,\n",
       " 200509,\n",
       " 200510,\n",
       " 200511,\n",
       " 200512,\n",
       " 200601,\n",
       " 200602,\n",
       " 200603,\n",
       " 200604,\n",
       " 200605,\n",
       " 200606,\n",
       " 200607,\n",
       " 200608,\n",
       " 200609,\n",
       " 200610,\n",
       " 200611,\n",
       " 200612,\n",
       " 200701,\n",
       " 200702,\n",
       " 200703,\n",
       " 200704,\n",
       " 200705,\n",
       " 200706,\n",
       " 200707,\n",
       " 200708,\n",
       " 200709,\n",
       " 200710,\n",
       " 200711,\n",
       " 200712,\n",
       " 200801,\n",
       " 200802,\n",
       " 200803,\n",
       " 200804,\n",
       " 200805,\n",
       " 200806,\n",
       " 200807,\n",
       " 200808,\n",
       " 200809,\n",
       " 200810,\n",
       " 200811,\n",
       " 200812,\n",
       " 200901,\n",
       " 200902,\n",
       " 200903,\n",
       " 200904,\n",
       " 200905,\n",
       " 200906,\n",
       " 200907,\n",
       " 200908,\n",
       " 200909,\n",
       " 200910,\n",
       " 200911,\n",
       " 200912,\n",
       " 201001,\n",
       " 201002,\n",
       " 201003,\n",
       " 201004,\n",
       " 201005,\n",
       " 201006,\n",
       " 201007,\n",
       " 201008,\n",
       " 201009,\n",
       " 201010,\n",
       " 201011,\n",
       " 201012,\n",
       " 201101,\n",
       " 201102,\n",
       " 201103,\n",
       " 201104,\n",
       " 201105,\n",
       " 201106,\n",
       " 201107,\n",
       " 201108,\n",
       " 201109,\n",
       " 201110,\n",
       " 201111,\n",
       " 201112,\n",
       " 201201,\n",
       " 201202,\n",
       " 201203,\n",
       " 201204,\n",
       " 201205,\n",
       " 201206,\n",
       " 201207,\n",
       " 201208,\n",
       " 201209,\n",
       " 201210,\n",
       " 201211,\n",
       " 201212,\n",
       " 201301,\n",
       " 201302,\n",
       " 201303,\n",
       " 201304,\n",
       " 201305,\n",
       " 201306,\n",
       " 201307,\n",
       " 201308,\n",
       " 201309,\n",
       " 201310,\n",
       " 201311,\n",
       " 201312,\n",
       " 201401,\n",
       " 201402,\n",
       " 201403,\n",
       " 201404,\n",
       " 201405,\n",
       " 201406,\n",
       " 201407,\n",
       " 201408,\n",
       " 201409,\n",
       " 201410,\n",
       " 201411,\n",
       " 201412,\n",
       " 201501,\n",
       " 201502,\n",
       " 201503,\n",
       " 201504,\n",
       " 201505,\n",
       " 201506,\n",
       " 201507,\n",
       " 201508,\n",
       " 201509,\n",
       " 201510,\n",
       " 201511,\n",
       " 201512,\n",
       " 201601,\n",
       " 201602,\n",
       " 201603,\n",
       " 201604,\n",
       " 201605,\n",
       " 201606,\n",
       " 201607,\n",
       " 201608,\n",
       " 201609,\n",
       " 201610,\n",
       " 201611,\n",
       " 201612]"
      ]
     },
     "execution_count": 34,
     "metadata": {},
     "output_type": "execute_result"
    }
   ],
   "source": [
    "x"
   ]
  },
  {
   "cell_type": "code",
   "execution_count": null,
   "metadata": {},
   "outputs": [],
   "source": []
  }
 ],
 "metadata": {
  "kernelspec": {
   "display_name": "base",
   "language": "python",
   "name": "python3"
  },
  "language_info": {
   "codemirror_mode": {
    "name": "ipython",
    "version": 3
   },
   "file_extension": ".py",
   "mimetype": "text/x-python",
   "name": "python",
   "nbconvert_exporter": "python",
   "pygments_lexer": "ipython3",
   "version": "3.12.6"
  },
  "orig_nbformat": 4
 },
 "nbformat": 4,
 "nbformat_minor": 2
}
